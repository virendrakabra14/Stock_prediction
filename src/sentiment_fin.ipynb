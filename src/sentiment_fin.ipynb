{
 "cells": [
  {
   "cell_type": "code",
   "execution_count": 1,
   "metadata": {},
   "outputs": [],
   "source": [
    "import numpy as np\n",
    "import pandas as pd\n",
    "import matplotlib.pyplot as plt\n",
    "from sklearn.preprocessing import MinMaxScaler\n",
    "from sklearn.model_selection import train_test_split\n",
    "\n",
    "import torch\n",
    "from torch.utils.data import DataLoader, TensorDataset\n",
    "import torch.nn as nn\n",
    "\n",
    "import os\n",
    "import pathlib\n",
    "\n",
    "import snscrape.modules.twitter as sntwitter\n",
    "import preprocessor as pp\n",
    "import string\n",
    "import datetime\n",
    "import nltk\n",
    "import re\n",
    "import inspect"
   ]
  },
  {
   "cell_type": "code",
   "execution_count": 2,
   "metadata": {},
   "outputs": [],
   "source": [
    "np.random.seed(0)\n",
    "torch.random.manual_seed(0)\n",
    "torch.cuda.manual_seed(0)"
   ]
  },
  {
   "cell_type": "code",
   "execution_count": 3,
   "metadata": {},
   "outputs": [],
   "source": [
    "data_dir = '../data'\n",
    "data_path = os.path.join(data_dir, 'TSLA.csv')\n",
    "data_df = pd.read_csv(data_path)"
   ]
  },
  {
   "cell_type": "code",
   "execution_count": null,
   "metadata": {},
   "outputs": [],
   "source": [
    "nltk.download('omw-1.4')\n",
    "nltk.download('wordnet')\n",
    "\n",
    "tokenizer = nltk.RegexpTokenizer(r\"\\w+\")\n",
    "lemmatizer = nltk.stem.WordNetLemmatizer()"
   ]
  },
  {
   "attachments": {},
   "cell_type": "markdown",
   "metadata": {},
   "source": [
    "Load GloVe embeddings in a dictionary"
   ]
  },
  {
   "cell_type": "code",
   "execution_count": 5,
   "metadata": {},
   "outputs": [],
   "source": [
    "glove_dim = 100\n",
    "token_to_vector = {}\n",
    "with open(os.path.join(data_dir, f'./glove.6B/glove.6B.{glove_dim}d.txt'), encoding='utf-8') as f_glove:\n",
    "    for line in f_glove:\n",
    "        line = line.split()\n",
    "        token_to_vector[line[0]] = [float(e) for e in line[1:]]"
   ]
  },
  {
   "cell_type": "code",
   "execution_count": 6,
   "metadata": {},
   "outputs": [],
   "source": [
    "def tokenize_tweets(tweet):\n",
    "    \"\"\"\n",
    "    Function to tokenize a tweet.\n",
    "    \"\"\"\n",
    "    tokens = tokenizer.tokenize(tweet)\n",
    "    tokens = [t.lower() for t in tokens]\n",
    "    tokens = [lemmatizer.lemmatize(t) for t in tokens]\n",
    "    return tokens"
   ]
  },
  {
   "cell_type": "code",
   "execution_count": 7,
   "metadata": {},
   "outputs": [
    {
     "data": {
      "text/plain": [
       "['user', 'elonmusk', 'mother', 'foot', 'and', 'is', 'at']"
      ]
     },
     "execution_count": 7,
     "metadata": {},
     "output_type": "execute_result"
    }
   ],
   "source": [
    "tokenize_tweets('@user, @elonmusk; mothers feet and is at')"
   ]
  },
  {
   "attachments": {},
   "cell_type": "markdown",
   "metadata": {},
   "source": [
    "- Scrape, clean, and tokenize tweets. Query is formed with Twitter Advanced Search tool."
   ]
  },
  {
   "cell_type": "code",
   "execution_count": 8,
   "metadata": {},
   "outputs": [
    {
     "name": "stdout",
     "output_type": "stream",
     "text": [
      "4102\n"
     ]
    }
   ],
   "source": [
    "# data\n",
    "tweets_clean = []\n",
    "price_changes = []\n",
    "\n",
    "min_faves = 500\n",
    "query = f\"tesla until:2022-12-31 since:2011-01-01 min_faves:{min_faves} lang:en -filter:links -filter:replies\"\n",
    "\n",
    "scraper = sntwitter.TwitterSearchScraper(query=query)\n",
    "tweets = scraper.get_items()\n",
    "cnt = 0\n",
    "pp.set_options(pp.OPT.URL, pp.OPT.EMOJI)        # to clean-up URLs and emojis\n",
    "\n",
    "for tweet in tweets:\n",
    "    stock_data = data_df.loc[data_df['Date'] == str(tweet.date.date())]\n",
    "    stock_data_prev = data_df.loc[data_df['Date'] == str((tweet.date - datetime.timedelta(days=1)).date())]\n",
    "    if stock_data.shape[0]==0 or stock_data_prev.shape[0]==0:\n",
    "        continue\n",
    "    tweets_clean.append(tokenize_tweets(pp.clean(tweet.content)))\n",
    "    price_changes.append(round(float(stock_data['Adj Close'].item()-stock_data_prev['Adj Close'].item()), 5))\n",
    "    cnt += 1\n",
    "\n",
    "print(cnt)"
   ]
  },
  {
   "attachments": {},
   "cell_type": "markdown",
   "metadata": {},
   "source": [
    "- 01-01-2011 to 31-12-2022\n",
    "    - min_faves:1000 - 1718\n",
    "    - min_faves:500 - 4126\n",
    "- 01-01-2022 to 31-12-2022\n",
    "    - min_faves:500 - ~1600"
   ]
  },
  {
   "cell_type": "code",
   "execution_count": 9,
   "metadata": {},
   "outputs": [],
   "source": [
    "data_dir = '../data/'\n",
    "pathlib.Path(data_dir).mkdir(exist_ok=True, parents=True)\n",
    "with open(os.path.join(data_dir, f'tweets_clean_2011-2022_min-faves{min_faves}.csv'), 'w') as f_csv:\n",
    "    for i in range(len(tweets_clean)):\n",
    "        f_csv.write(str(price_changes[i])+',')\n",
    "        for token in tweets_clean[i]:\n",
    "            f_csv.write(token+' ')\n",
    "        f_csv.write('\\n')"
   ]
  },
  {
   "attachments": {},
   "cell_type": "markdown",
   "metadata": {},
   "source": [
    "Padding\n",
    "  - To make all tweets of same length; helpful in batching\n",
    "  - Also allows `(hidden_dims*sequence_len) -> (output_dims)` FC layer after RNN. This is not used below, though"
   ]
  },
  {
   "cell_type": "code",
   "execution_count": 10,
   "metadata": {},
   "outputs": [
    {
     "data": {
      "image/png": "[encoded data removed]",
      "text/plain": [
       "<Figure size 432x288 with 1 Axes>"
      ]
     },
     "metadata": {
      "needs_background": "light"
     },
     "output_type": "display_data"
    },
    {
     "name": "stdout",
     "output_type": "stream",
     "text": [
      "max_tweet_len: 63\n",
      "Data shape: (4102, 63, 100) (4102, 1)\n"
     ]
    }
   ],
   "source": [
    "tweet_lens = []\n",
    "for tweet in tweets_clean:\n",
    "    tweet_lens.append(len(tweet))\n",
    "\n",
    "plt.hist(tweet_lens)\n",
    "plt.show()\n",
    "\n",
    "max_tweet_len = max(tweet_lens)\n",
    "print('max_tweet_len:', max_tweet_len)\n",
    "\n",
    "X = np.zeros(shape=(len(tweets_clean), max_tweet_len, glove_dim), dtype=np.float64)       # default = padding = 0.\n",
    "for i in range(len(tweets_clean)):\n",
    "    X[i][:len(tweets_clean[i])] = np.array([token_to_vector[e] if e in token_to_vector else [0.0]*glove_dim for e in tweets_clean[i]])\n",
    "\n",
    "Y = np.array(price_changes).reshape((len(price_changes),1))\n",
    "\n",
    "print('Data shape:', X.shape, Y.shape)"
   ]
  },
  {
   "cell_type": "code",
   "execution_count": 13,
   "metadata": {},
   "outputs": [
    {
     "name": "stdout",
     "output_type": "stream",
     "text": [
      "(3321, 63, 100) (370, 63, 100) (411, 63, 100) (3321, 1) (370, 1) (411, 1)\n"
     ]
    }
   ],
   "source": [
    "X_train, X_test, Y_train, Y_test = train_test_split(X, Y, test_size=0.1)                # test set\n",
    "X_train, X_val, Y_train, Y_val = train_test_split(X_train, Y_train, test_size=0.1)      # val set\n",
    "\n",
    "print(X_train.shape, X_val.shape, X_test.shape, Y_train.shape, Y_val.shape, Y_test.shape)\n",
    "\n",
    "def scale_data(X_train, Y_train, X_val, Y_val, X_test):\n",
    "    X_scaler = MinMaxScaler()\n",
    "    X_train_scaled = X_scaler.fit_transform(X_train)  # fit to training data (transform it as well)\n",
    "    X_val_scaled = X_scaler.transform(X_val)\n",
    "    X_test_scaled = X_scaler.transform(X_test)\n",
    "    Y_scaler = MinMaxScaler()\n",
    "    Y_train_scaled = Y_scaler.fit_transform(Y_train)\n",
    "    Y_val_scaled = Y_scaler.transform(Y_val)\n",
    "    return X_train_scaled, Y_train_scaled, X_val_scaled, Y_val_scaled, X_test_scaled, X_scaler, Y_scaler\n",
    "\n",
    "shape_Xtrain = X_train.shape\n",
    "X_train = X_train.reshape((shape_Xtrain[0], shape_Xtrain[1]*shape_Xtrain[2]))\n",
    "\n",
    "shape_Xval = X_val.shape\n",
    "X_val = X_val.reshape((shape_Xval[0], shape_Xval[1]*shape_Xval[2]))\n",
    "\n",
    "shape_Xtest = X_test.shape\n",
    "X_test = X_test.reshape((shape_Xtest[0], shape_Xtest[1]*shape_Xtest[2]))\n",
    "\n",
    "X_train, Y_train, X_val, Y_val, X_test, X_scaler, Y_scaler = scale_data(X_train, Y_train, X_val, Y_val, X_test)\n",
    "\n",
    "X_train = X_train.reshape((shape_Xtrain[0], shape_Xtrain[1], shape_Xtrain[2]))\n",
    "X_val = X_val.reshape((shape_Xval[0], shape_Xval[1], shape_Xval[2]))\n",
    "X_test = X_test.reshape((shape_Xtest[0], shape_Xtest[1], shape_Xtest[2]))\n",
    "\n",
    "X_train = torch.from_numpy(X_train).float()\n",
    "X_val = torch.from_numpy(X_val).float()\n",
    "X_test = torch.from_numpy(X_test).float()\n",
    "Y_train = torch.from_numpy(Y_train).float()\n",
    "Y_test = torch.from_numpy(Y_test).float()\n",
    "Y_val = torch.from_numpy(Y_val).float()"
   ]
  },
  {
   "attachments": {},
   "cell_type": "markdown",
   "metadata": {},
   "source": [
    "Check if data is balanced."
   ]
  },
  {
   "cell_type": "code",
   "execution_count": 14,
   "metadata": {},
   "outputs": [
    {
     "name": "stdout",
     "output_type": "stream",
     "text": [
      "Total, Positive\n",
      "3321 1611\n",
      "370 188\n",
      "411 189\n"
     ]
    }
   ],
   "source": [
    "print(\"Total, Positive\")\n",
    "print(Y_train.shape[0], torch.sum(torch.from_numpy(Y_scaler.inverse_transform(Y_train))>0).item())\n",
    "print(Y_val.shape[0], torch.sum(torch.from_numpy(Y_scaler.inverse_transform(Y_val))>0).item())\n",
    "print(Y_test.shape[0], torch.sum(Y_test>0).item())"
   ]
  },
  {
   "attachments": {},
   "cell_type": "markdown",
   "metadata": {},
   "source": [
    "Save data."
   ]
  },
  {
   "cell_type": "code",
   "execution_count": 15,
   "metadata": {},
   "outputs": [],
   "source": [
    "saved_data_name = f'2011-2022_min-faves{min_faves}.pt'\n",
    "torch.save({\n",
    "    'X_train': X_train,\n",
    "    'X_test': X_test,\n",
    "    'X_val': X_val,\n",
    "    'Y_train': Y_train,\n",
    "    'Y_test': Y_test,           # Y_test unscaled (coz it's not \"available\")\n",
    "    'Y_val': Y_val,\n",
    "    'X_scaler': X_scaler,\n",
    "    'Y_scaler': Y_scaler,\n",
    "}, os.path.join(data_dir,saved_data_name))"
   ]
  },
  {
   "attachments": {},
   "cell_type": "markdown",
   "metadata": {},
   "source": [
    "Optionally, (re-)load it."
   ]
  },
  {
   "cell_type": "code",
   "execution_count": 45,
   "metadata": {},
   "outputs": [],
   "source": [
    "dataset = torch.load(os.path.join(data_dir, saved_data_name))\n",
    "\n",
    "X_train = dataset['X_train']\n",
    "X_test = dataset['X_test']\n",
    "X_val = dataset['X_val']\n",
    "Y_train = dataset['Y_train']\n",
    "Y_test = dataset['Y_test']\n",
    "Y_val = dataset['Y_val']\n",
    "X_scaler = dataset['X_scaler']\n",
    "Y_scaler = dataset['Y_scaler']\n",
    "\n",
    "glove_dim = X_train.shape[2]\n",
    "max_tweet_len = X_train.shape[1]"
   ]
  },
  {
   "cell_type": "code",
   "execution_count": 16,
   "metadata": {},
   "outputs": [],
   "source": [
    "batch_sz = 512\n",
    "\n",
    "train_loader_kwargs = {\n",
    "    'batch_size': batch_sz,\n",
    "    'shuffle': True\n",
    "}\n",
    "train_loader = DataLoader(\n",
    "    TensorDataset(X_train, Y_train), **train_loader_kwargs\n",
    ")\n",
    "\n",
    "test_loader_kwargs = {\n",
    "    'batch_size': batch_sz,\n",
    "    'shuffle': True\n",
    "}\n",
    "test_loader = DataLoader(\n",
    "    TensorDataset(X_test, Y_test), **test_loader_kwargs\n",
    ")\n",
    "\n",
    "val_loader_kwargs = {\n",
    "    'batch_size': batch_sz,\n",
    "    'shuffle': True\n",
    "}\n",
    "val_loader = DataLoader(\n",
    "    TensorDataset(X_val, Y_val), **val_loader_kwargs\n",
    ")"
   ]
  },
  {
   "attachments": {},
   "cell_type": "markdown",
   "metadata": {},
   "source": [
    "`RNN_inbuilt` uses `torch.nn.RNN`.<br>\n",
    "`RNN_scratch` doesn't."
   ]
  },
  {
   "cell_type": "code",
   "execution_count": 17,
   "metadata": {},
   "outputs": [],
   "source": [
    "class RNN_inbuilt(nn.Module):\n",
    "    def __init__(self, input_size, output_size, hidden_size, num_layers, sequence_length):\n",
    "        super().__init__()\n",
    "        self.output_size = output_size\n",
    "        self.hidden_size = hidden_size\n",
    "        self.num_layers = num_layers\n",
    "        self.rnn = nn.RNN(input_size=input_size, hidden_size=hidden_size, num_layers=num_layers, batch_first=True)\n",
    "                    # bias=True, nonlinearity='tanh'\n",
    "        \n",
    "        self.fc = nn.Linear(in_features=hidden_size*sequence_length, out_features=output_size)\n",
    "        nn.init.xavier_uniform_(self.fc.weight)\n",
    "        self.fc.bias.data.fill_(0.01)\n",
    "    \n",
    "    def forward(self, x):\n",
    "        h0 = torch.zeros(self.num_layers, x.size(0), self.hidden_size)\n",
    "        out, _ = self.rnn(x, h0)           # out: (batch size, sequence length, input dims)\n",
    "        out = out.reshape(out.shape[0],-1)\n",
    "        # out = out[:,-1,:]                         # doesn't work well!\n",
    "        out = self.fc(out)\n",
    "        return out\n",
    "\n",
    "\n",
    "class RNN_scratch(nn.Module):\n",
    "    def __init__(self, input_size, hidden_size, output_size, sequence_length=None, use_all_timesteps=False):\n",
    "        super().__init__()\n",
    "        self.input_size = input_size\n",
    "        self.hidden_size = hidden_size\n",
    "        self.output_size = output_size\n",
    "        self.sequence_length = sequence_length\n",
    "        self.use_all_timesteps = use_all_timesteps\n",
    "\n",
    "        if self.use_all_timesteps and (self.sequence_length is None):\n",
    "            raise Exception(f\"Error in {__class__.__name__}/{inspect.stack()[0][3]}: Cannot use entire sequence when sequence_length is None. Provide sequence_length as argument.\")\n",
    "\n",
    "        self.input2hidden = nn.Linear(input_size, hidden_size)\n",
    "        self.hidden2hidden = nn.Linear(hidden_size, hidden_size)\n",
    "        if self.use_all_timesteps:\n",
    "            self.hidden2output = nn.Linear(hidden_size*sequence_length, output_size)\n",
    "        else:\n",
    "            self.hidden2output = nn.Linear(hidden_size, output_size)\n",
    "        self.init_weights()           # doesn't affect performance here\n",
    "\n",
    "    def forward_step(self, x, hidden_state):\n",
    "        x = self.input2hidden(x)\n",
    "        hidden_state = self.hidden2hidden(hidden_state)\n",
    "        hidden_state = torch.tanh(x + hidden_state)\n",
    "        return hidden_state\n",
    "\n",
    "    def forward(self, inputs):\n",
    "        curr_batch_size = inputs.shape[0]\n",
    "        sequence_length = inputs.shape[1]\n",
    "        hidden = self.init_hidden(curr_batch_size)\n",
    "        hidden_concat = torch.empty(size=(curr_batch_size, sequence_length, self.hidden_size))\n",
    "        for i in range(sequence_length):\n",
    "            hidden = self.forward_step(inputs[:,i].reshape(curr_batch_size, self.input_size), hidden)\n",
    "            hidden_concat[:,i,:] = hidden\n",
    "        if self.use_all_timesteps:\n",
    "            return self.hidden2output(hidden_concat.reshape(curr_batch_size,-1))\n",
    "        else:\n",
    "            return self.hidden2output(hidden_concat[:,-1,:])\n",
    "\n",
    "    def init_weights(self):\n",
    "        nn.init.xavier_uniform_(self.input2hidden.weight)\n",
    "        nn.init.xavier_uniform_(self.hidden2hidden.weight)\n",
    "        nn.init.xavier_uniform_(self.hidden2output.weight)\n",
    "        self.input2hidden.bias.data.fill_(0.01)\n",
    "        self.hidden2hidden.bias.data.fill_(0.01)\n",
    "        self.hidden2output.bias.data.fill_(0.01)\n",
    "    \n",
    "    def init_hidden(self, batch_size):\n",
    "        return torch.zeros(batch_size, self.hidden_size)"
   ]
  },
  {
   "cell_type": "code",
   "execution_count": 28,
   "metadata": {},
   "outputs": [],
   "source": [
    "model_args = {\n",
    "    'input_size': glove_dim,\n",
    "    'output_size': 1,\n",
    "    'hidden_size': 64,\n",
    "    'num_layers': 1,\n",
    "    'sequence_length': max_tweet_len,        # equals X_train.shape[1]\n",
    "    # 'use_all_timesteps': True,\n",
    "}\n",
    "model = RNN_inbuilt(**model_args)\n",
    "optim_args = {\n",
    "    'lr': 1e-4\n",
    "}\n",
    "optimizer = torch.optim.Adam(model.parameters(), **optim_args)\n",
    "loss_fn = nn.MSELoss()"
   ]
  },
  {
   "cell_type": "code",
   "execution_count": 29,
   "metadata": {},
   "outputs": [],
   "source": [
    "def predict(model, loader):\n",
    "    model.eval()\n",
    "    preds = []\n",
    "    with torch.no_grad():               # not training, so no need to calculate gradients\n",
    "        for inputs, labels in loader:\n",
    "            outputs = model(inputs)\n",
    "            preds.append(outputs)\n",
    "    preds = torch.cat(preds, axis=0)\n",
    "    return preds"
   ]
  },
  {
   "cell_type": "code",
   "execution_count": 30,
   "metadata": {},
   "outputs": [],
   "source": [
    "def train(num_epochs, print_width=None):\n",
    "    dict_train_losses = {}\n",
    "    dict_val_losses = {}\n",
    "    print_width = max(1, num_epochs/10) if print_width is None else print_width\n",
    "\n",
    "    for epoch in range(num_epochs):\n",
    "        train_loss = 0\n",
    "        cnt = 0\n",
    "\n",
    "        model.train()\n",
    "        \n",
    "        for inputs, labels in train_loader:\n",
    "            optimizer.zero_grad()\n",
    "            \n",
    "            outputs = model(inputs)\n",
    "\n",
    "            # print(outputs.shape, labels.shape)\n",
    "            assert outputs.shape==labels.shape                  # useful check\n",
    "\n",
    "            loss = loss_fn(outputs, labels)\n",
    "            loss.backward()\n",
    "            optimizer.step()\n",
    "            \n",
    "            train_loss += (loss.item()*inputs.shape[0])\n",
    "            cnt += inputs.shape[0]\n",
    "\n",
    "        train_loss /= cnt\n",
    "        dict_train_losses[epoch] = train_loss\n",
    "        with torch.no_grad():\n",
    "            dict_val_losses[epoch] = loss_fn(predict(model,val_loader), Y_val)\n",
    "\n",
    "        if epoch%print_width==0:\n",
    "            print(\"Epoch:\", epoch, \"\\tLoss:\", train_loss)\n",
    "        \n",
    "    return dict_train_losses, dict_val_losses"
   ]
  },
  {
   "cell_type": "code",
   "execution_count": 31,
   "metadata": {},
   "outputs": [
    {
     "name": "stdout",
     "output_type": "stream",
     "text": [
      "Epoch: 0 \tLoss: 0.2608546005947265\n",
      "Epoch: 20 \tLoss: 0.022148559761178382\n",
      "Epoch: 40 \tLoss: 0.020424640608754586\n",
      "Epoch: 60 \tLoss: 0.01913345632224925\n",
      "Epoch: 80 \tLoss: 0.018164560000236335\n",
      "Epoch: 100 \tLoss: 0.017200067773959393\n",
      "Epoch: 120 \tLoss: 0.016407505010928566\n",
      "Epoch: 140 \tLoss: 0.015681655730887267\n",
      "Epoch: 160 \tLoss: 0.015106437063179472\n",
      "Epoch: 180 \tLoss: 0.014935262623509166\n"
     ]
    }
   ],
   "source": [
    "dict_train_losses, dict_val_losses = train(200)"
   ]
  },
  {
   "cell_type": "code",
   "execution_count": 32,
   "metadata": {},
   "outputs": [],
   "source": [
    "def plot_fn(x, y, fig=None, ax=None, figsize=(5,5), title='', xlabel='', ylabel='', xlims=None, ylims=None, dpi=None, marker=None):\n",
    "    if fig is None or ax is None:\n",
    "        fig, ax = plt.subplots(figsize=figsize)\n",
    "    ax.plot(x, y, marker=marker, label=ylabel)\n",
    "    if fig is None or ax is None:\n",
    "        ax.set_xlabel(xlabel)\n",
    "        ax.set_ylabel(ylabel)\n",
    "        ax.set_title(title)\n",
    "        if xlims is not None:\n",
    "            ax.set_xlim(xlims)\n",
    "        if ylims is not None:\n",
    "            ax.set_ylim(ylims)\n",
    "        if dpi is not None:\n",
    "            fig.set_dpi(dpi)\n",
    "    ax.legend()\n",
    "    return fig, ax\n",
    "\n",
    "def save_model(model, epochs, optimizer, path):\n",
    "    torch.save({\n",
    "        'epoch': epochs,\n",
    "        'model_state_dict': model.state_dict(),\n",
    "        'optimizer_state_dict': optimizer.state_dict(),\n",
    "        }, path)"
   ]
  },
  {
   "cell_type": "code",
   "execution_count": 33,
   "metadata": {},
   "outputs": [
    {
     "data": {
      "image/png": "[encoded data removed]",
      "text/plain": [
       "<Figure size 720x720 with 1 Axes>"
      ]
     },
     "metadata": {
      "needs_background": "light"
     },
     "output_type": "display_data"
    }
   ],
   "source": [
    "fig, ax = plot_fn(x=dict_train_losses.keys(), y=dict_train_losses.values(), figsize=(10,10), xlabel='Epoch', ylabel='Train Loss')\n",
    "plot_fn(x=dict_val_losses.keys(), y=dict_val_losses.values(), fig=fig, ax=ax, figsize=(10,10), xlabel='Epoch', ylabel='Validation Loss')\n",
    "fig.savefig('../results/sentiment/training_RNN_2011-2022_minfaves500_fin.png', bbox_inches='tight', facecolor='w')"
   ]
  },
  {
   "cell_type": "code",
   "execution_count": 34,
   "metadata": {},
   "outputs": [
    {
     "name": "stdout",
     "output_type": "stream",
     "text": [
      "tensor(0.0186, dtype=torch.float64)\n"
     ]
    }
   ],
   "source": [
    "preds = predict(model=model, loader=test_loader)\n",
    "with torch.no_grad():\n",
    "    # print(torch.nn.MSELoss()(torch.from_numpy(Y_scaler.inverse_transform(np.array(preds))), Y_test))\n",
    "    print(torch.nn.MSELoss()(preds, torch.from_numpy(Y_scaler.transform(Y_test))))          # comparable to train, val loss\n",
    "                                                                                            # as this is in transformed domain"
   ]
  },
  {
   "cell_type": "code",
   "execution_count": 39,
   "metadata": {},
   "outputs": [
    {
     "name": "stdout",
     "output_type": "stream",
     "text": [
      "[[-0.95720973]\n",
      " [ 0.70595767]]\n"
     ]
    }
   ],
   "source": [
    "def predict_tweets(tweets):\n",
    "    \"\"\"\n",
    "    tweets      : List of tweets\n",
    "    \"\"\"\n",
    "    pp.set_options(pp.OPT.URL, pp.OPT.EMOJI)        # to clean-up URLs and emojis\n",
    "\n",
    "    tweets_clean_predict = []\n",
    "    for tweet in tweets:\n",
    "        tweet_clean = [token_to_vector[token] if token in token_to_vector else [0.0]*glove_dim for token in tokenize_tweets(pp.clean(tweet))]\n",
    "        if len(tweet_clean)>max_tweet_len:\n",
    "            tweet_clean = tweet_clean[:max_tweet_len]\n",
    "        tweets_clean_predict.append(tweet_clean)\n",
    "\n",
    "    X_predict = np.zeros(shape=(len(tweets_clean_predict), max_tweet_len, glove_dim), dtype=np.float64)\n",
    "    for i in range(len(tweets_clean_predict)):\n",
    "        X_predict[i][:len(tweets_clean_predict[i])] = np.array(tweets_clean_predict[i])\n",
    "    \n",
    "    shape_Xpredict = X_predict.shape\n",
    "    X_predict = X_predict.reshape((shape_Xpredict[0], shape_Xpredict[1]*shape_Xpredict[2]))\n",
    "    X_predict = torch.from_numpy(X_scaler.transform(X_predict)).float()\n",
    "    X_predict = X_predict.reshape((shape_Xpredict[0], shape_Xpredict[1], shape_Xpredict[2]))\n",
    "\n",
    "    Y_predict = torch.empty(size=(X_predict.shape[0], 1))       # just for the loader\n",
    "\n",
    "    predict_loader = DataLoader(\n",
    "        TensorDataset(X_predict, Y_predict), batch_size=X_predict.shape[0]\n",
    "    )\n",
    "\n",
    "    preds = predict(model, predict_loader)\n",
    "    return preds\n",
    "\n",
    "tweets = ['tesla stock is going to fall!', 'wow tesla stock is so much positive!']\n",
    "print(Y_scaler.inverse_transform(predict_tweets(tweets)))"
   ]
  },
  {
   "attachments": {},
   "cell_type": "markdown",
   "metadata": {},
   "source": [
    "## Points\n",
    "\n",
    "- Scaling is VERY important.\n",
    "    - Saw this both in lagged-data prediction and sentiment analysis\n",
    "- Loss increasing or fluctuating:\n",
    "    - Try decreasing LR\n",
    "- Plotting Validation Loss (along with Training Loss) helps know if there is over-fitting"
   ]
  }
 ],
 "metadata": {
  "kernelspec": {
   "display_name": "Python 3",
   "language": "python",
   "name": "python3"
  },
  "language_info": {
   "codemirror_mode": {
    "name": "ipython",
    "version": 3
   },
   "file_extension": ".py",
   "mimetype": "text/x-python",
   "name": "python",
   "nbconvert_exporter": "python",
   "pygments_lexer": "ipython3",
   "version": "3.9.4"
  },
  "orig_nbformat": 4,
  "vscode": {
   "interpreter": {
    "hash": "8ffc022e556dbf9e4707e0813792d41f1f0550f46106b79e6c9a363a1f17dd45"
   }
  }
 },
 "nbformat": 4,
 "nbformat_minor": 2
}
