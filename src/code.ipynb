{
 "cells": [
  {
   "cell_type": "code",
   "execution_count": 1,
   "metadata": {},
   "outputs": [],
   "source": [
    "import numpy as np\n",
    "import pandas as pd\n",
    "import matplotlib.pyplot as plt\n",
    "from sklearn.preprocessing import MinMaxScaler\n",
    "\n",
    "import torch\n",
    "from torch.utils.data import DataLoader, TensorDataset\n",
    "import torch.nn as nn\n",
    "\n",
    "import os"
   ]
  },
  {
   "cell_type": "code",
   "execution_count": 2,
   "metadata": {},
   "outputs": [],
   "source": [
    "np.random.seed(0)\n",
    "torch.random.manual_seed(0)\n",
    "torch.cuda.manual_seed(0)\n",
    "\n",
    "os.environ[\"CUBLAS_WORKSPACE_CONFIG\"]=\":4096:2\"     # https://pytorch.org/docs/stable/generated/torch.nn.RNN.html\n",
    "                                                    # https://stackoverflow.com/questions/66682127/"
   ]
  },
  {
   "cell_type": "code",
   "execution_count": 3,
   "metadata": {},
   "outputs": [
    {
     "data": {
      "text/html": [
       "<div>\n",
       "<style scoped>\n",
       "    .dataframe tbody tr th:only-of-type {\n",
       "        vertical-align: middle;\n",
       "    }\n",
       "\n",
       "    .dataframe tbody tr th {\n",
       "        vertical-align: top;\n",
       "    }\n",
       "\n",
       "    .dataframe thead th {\n",
       "        text-align: right;\n",
       "    }\n",
       "</style>\n",
       "<table border=\"1\" class=\"dataframe\">\n",
       "  <thead>\n",
       "    <tr style=\"text-align: right;\">\n",
       "      <th></th>\n",
       "      <th>Date</th>\n",
       "      <th>Open</th>\n",
       "      <th>High</th>\n",
       "      <th>Low</th>\n",
       "      <th>Close</th>\n",
       "      <th>Adj Close</th>\n",
       "      <th>Volume</th>\n",
       "    </tr>\n",
       "  </thead>\n",
       "  <tbody>\n",
       "    <tr>\n",
       "      <th>0</th>\n",
       "      <td>2010-06-29</td>\n",
       "      <td>1.266667</td>\n",
       "      <td>1.666667</td>\n",
       "      <td>1.169333</td>\n",
       "      <td>1.592667</td>\n",
       "      <td>1.592667</td>\n",
       "      <td>281494500</td>\n",
       "    </tr>\n",
       "    <tr>\n",
       "      <th>1</th>\n",
       "      <td>2010-06-30</td>\n",
       "      <td>1.719333</td>\n",
       "      <td>2.028000</td>\n",
       "      <td>1.553333</td>\n",
       "      <td>1.588667</td>\n",
       "      <td>1.588667</td>\n",
       "      <td>257806500</td>\n",
       "    </tr>\n",
       "    <tr>\n",
       "      <th>2</th>\n",
       "      <td>2010-07-01</td>\n",
       "      <td>1.666667</td>\n",
       "      <td>1.728000</td>\n",
       "      <td>1.351333</td>\n",
       "      <td>1.464000</td>\n",
       "      <td>1.464000</td>\n",
       "      <td>123282000</td>\n",
       "    </tr>\n",
       "    <tr>\n",
       "      <th>3</th>\n",
       "      <td>2010-07-02</td>\n",
       "      <td>1.533333</td>\n",
       "      <td>1.540000</td>\n",
       "      <td>1.247333</td>\n",
       "      <td>1.280000</td>\n",
       "      <td>1.280000</td>\n",
       "      <td>77097000</td>\n",
       "    </tr>\n",
       "    <tr>\n",
       "      <th>4</th>\n",
       "      <td>2010-07-06</td>\n",
       "      <td>1.333333</td>\n",
       "      <td>1.333333</td>\n",
       "      <td>1.055333</td>\n",
       "      <td>1.074000</td>\n",
       "      <td>1.074000</td>\n",
       "      <td>103003500</td>\n",
       "    </tr>\n",
       "    <tr>\n",
       "      <th>...</th>\n",
       "      <td>...</td>\n",
       "      <td>...</td>\n",
       "      <td>...</td>\n",
       "      <td>...</td>\n",
       "      <td>...</td>\n",
       "      <td>...</td>\n",
       "      <td>...</td>\n",
       "    </tr>\n",
       "    <tr>\n",
       "      <th>3141</th>\n",
       "      <td>2022-12-19</td>\n",
       "      <td>154.000000</td>\n",
       "      <td>155.250000</td>\n",
       "      <td>145.820007</td>\n",
       "      <td>149.869995</td>\n",
       "      <td>149.869995</td>\n",
       "      <td>139390600</td>\n",
       "    </tr>\n",
       "    <tr>\n",
       "      <th>3142</th>\n",
       "      <td>2022-12-20</td>\n",
       "      <td>146.050003</td>\n",
       "      <td>148.470001</td>\n",
       "      <td>137.660004</td>\n",
       "      <td>137.800003</td>\n",
       "      <td>137.800003</td>\n",
       "      <td>159563300</td>\n",
       "    </tr>\n",
       "    <tr>\n",
       "      <th>3143</th>\n",
       "      <td>2022-12-21</td>\n",
       "      <td>139.339996</td>\n",
       "      <td>141.259995</td>\n",
       "      <td>135.889999</td>\n",
       "      <td>137.570007</td>\n",
       "      <td>137.570007</td>\n",
       "      <td>145417400</td>\n",
       "    </tr>\n",
       "    <tr>\n",
       "      <th>3144</th>\n",
       "      <td>2022-12-22</td>\n",
       "      <td>136.000000</td>\n",
       "      <td>136.630005</td>\n",
       "      <td>122.260002</td>\n",
       "      <td>125.349998</td>\n",
       "      <td>125.349998</td>\n",
       "      <td>210090300</td>\n",
       "    </tr>\n",
       "    <tr>\n",
       "      <th>3145</th>\n",
       "      <td>2022-12-23</td>\n",
       "      <td>126.370003</td>\n",
       "      <td>128.619995</td>\n",
       "      <td>121.019997</td>\n",
       "      <td>123.150002</td>\n",
       "      <td>123.150002</td>\n",
       "      <td>166396100</td>\n",
       "    </tr>\n",
       "  </tbody>\n",
       "</table>\n",
       "<p>3146 rows × 7 columns</p>\n",
       "</div>"
      ],
      "text/plain": [
       "            Date        Open        High         Low       Close   Adj Close  \\\n",
       "0     2010-06-29    1.266667    1.666667    1.169333    1.592667    1.592667   \n",
       "1     2010-06-30    1.719333    2.028000    1.553333    1.588667    1.588667   \n",
       "2     2010-07-01    1.666667    1.728000    1.351333    1.464000    1.464000   \n",
       "3     2010-07-02    1.533333    1.540000    1.247333    1.280000    1.280000   \n",
       "4     2010-07-06    1.333333    1.333333    1.055333    1.074000    1.074000   \n",
       "...          ...         ...         ...         ...         ...         ...   \n",
       "3141  2022-12-19  154.000000  155.250000  145.820007  149.869995  149.869995   \n",
       "3142  2022-12-20  146.050003  148.470001  137.660004  137.800003  137.800003   \n",
       "3143  2022-12-21  139.339996  141.259995  135.889999  137.570007  137.570007   \n",
       "3144  2022-12-22  136.000000  136.630005  122.260002  125.349998  125.349998   \n",
       "3145  2022-12-23  126.370003  128.619995  121.019997  123.150002  123.150002   \n",
       "\n",
       "         Volume  \n",
       "0     281494500  \n",
       "1     257806500  \n",
       "2     123282000  \n",
       "3      77097000  \n",
       "4     103003500  \n",
       "...         ...  \n",
       "3141  139390600  \n",
       "3142  159563300  \n",
       "3143  145417400  \n",
       "3144  210090300  \n",
       "3145  166396100  \n",
       "\n",
       "[3146 rows x 7 columns]"
      ]
     },
     "execution_count": 3,
     "metadata": {},
     "output_type": "execute_result"
    }
   ],
   "source": [
    "data_path = '../data/TSLA.csv'\n",
    "data = pd.read_csv(data_path)\n",
    "data"
   ]
  },
  {
   "cell_type": "code",
   "execution_count": 4,
   "metadata": {},
   "outputs": [
    {
     "data": {
      "text/html": [
       "<div>\n",
       "<style scoped>\n",
       "    .dataframe tbody tr th:only-of-type {\n",
       "        vertical-align: middle;\n",
       "    }\n",
       "\n",
       "    .dataframe tbody tr th {\n",
       "        vertical-align: top;\n",
       "    }\n",
       "\n",
       "    .dataframe thead th {\n",
       "        text-align: right;\n",
       "    }\n",
       "</style>\n",
       "<table border=\"1\" class=\"dataframe\">\n",
       "  <thead>\n",
       "    <tr style=\"text-align: right;\">\n",
       "      <th></th>\n",
       "      <th>Open</th>\n",
       "      <th>High</th>\n",
       "      <th>Low</th>\n",
       "      <th>Close</th>\n",
       "      <th>Adj Close</th>\n",
       "      <th>Volume</th>\n",
       "    </tr>\n",
       "  </thead>\n",
       "  <tbody>\n",
       "    <tr>\n",
       "      <th>count</th>\n",
       "      <td>3146.000000</td>\n",
       "      <td>3146.000000</td>\n",
       "      <td>3146.000000</td>\n",
       "      <td>3146.000000</td>\n",
       "      <td>3146.000000</td>\n",
       "      <td>3.146000e+03</td>\n",
       "    </tr>\n",
       "    <tr>\n",
       "      <th>mean</th>\n",
       "      <td>58.786595</td>\n",
       "      <td>60.099372</td>\n",
       "      <td>57.331557</td>\n",
       "      <td>58.733885</td>\n",
       "      <td>58.733885</td>\n",
       "      <td>9.345782e+07</td>\n",
       "    </tr>\n",
       "    <tr>\n",
       "      <th>std</th>\n",
       "      <td>95.696775</td>\n",
       "      <td>97.892660</td>\n",
       "      <td>93.212779</td>\n",
       "      <td>95.564559</td>\n",
       "      <td>95.564559</td>\n",
       "      <td>8.165268e+07</td>\n",
       "    </tr>\n",
       "    <tr>\n",
       "      <th>min</th>\n",
       "      <td>1.076000</td>\n",
       "      <td>1.108667</td>\n",
       "      <td>0.998667</td>\n",
       "      <td>1.053333</td>\n",
       "      <td>1.053333</td>\n",
       "      <td>1.777500e+06</td>\n",
       "    </tr>\n",
       "    <tr>\n",
       "      <th>25%</th>\n",
       "      <td>8.894667</td>\n",
       "      <td>9.047833</td>\n",
       "      <td>8.603333</td>\n",
       "      <td>8.949500</td>\n",
       "      <td>8.949500</td>\n",
       "      <td>4.226032e+07</td>\n",
       "    </tr>\n",
       "    <tr>\n",
       "      <th>50%</th>\n",
       "      <td>16.201000</td>\n",
       "      <td>16.469333</td>\n",
       "      <td>15.937333</td>\n",
       "      <td>16.209333</td>\n",
       "      <td>16.209333</td>\n",
       "      <td>7.589670e+07</td>\n",
       "    </tr>\n",
       "    <tr>\n",
       "      <th>75%</th>\n",
       "      <td>24.492333</td>\n",
       "      <td>24.889333</td>\n",
       "      <td>24.015167</td>\n",
       "      <td>24.406667</td>\n",
       "      <td>24.406667</td>\n",
       "      <td>1.172059e+08</td>\n",
       "    </tr>\n",
       "    <tr>\n",
       "      <th>max</th>\n",
       "      <td>411.470001</td>\n",
       "      <td>414.496674</td>\n",
       "      <td>405.666656</td>\n",
       "      <td>409.970001</td>\n",
       "      <td>409.970001</td>\n",
       "      <td>9.140820e+08</td>\n",
       "    </tr>\n",
       "  </tbody>\n",
       "</table>\n",
       "</div>"
      ],
      "text/plain": [
       "              Open         High          Low        Close    Adj Close  \\\n",
       "count  3146.000000  3146.000000  3146.000000  3146.000000  3146.000000   \n",
       "mean     58.786595    60.099372    57.331557    58.733885    58.733885   \n",
       "std      95.696775    97.892660    93.212779    95.564559    95.564559   \n",
       "min       1.076000     1.108667     0.998667     1.053333     1.053333   \n",
       "25%       8.894667     9.047833     8.603333     8.949500     8.949500   \n",
       "50%      16.201000    16.469333    15.937333    16.209333    16.209333   \n",
       "75%      24.492333    24.889333    24.015167    24.406667    24.406667   \n",
       "max     411.470001   414.496674   405.666656   409.970001   409.970001   \n",
       "\n",
       "             Volume  \n",
       "count  3.146000e+03  \n",
       "mean   9.345782e+07  \n",
       "std    8.165268e+07  \n",
       "min    1.777500e+06  \n",
       "25%    4.226032e+07  \n",
       "50%    7.589670e+07  \n",
       "75%    1.172059e+08  \n",
       "max    9.140820e+08  "
      ]
     },
     "execution_count": 4,
     "metadata": {},
     "output_type": "execute_result"
    }
   ],
   "source": [
    "data.describe()"
   ]
  },
  {
   "cell_type": "code",
   "execution_count": 5,
   "metadata": {},
   "outputs": [],
   "source": [
    "def plot_df(df, x_col, y_col, rotate=False, rotation=0, ha=''):\n",
    "    ax = df.plot(x=x_col, y=y_col)\n",
    "    ax.set_xlabel(x_col)\n",
    "    ax.set_ylabel(y_col)\n",
    "    if rotate:\n",
    "        plt.xticks(rotation=rotation, ha=ha)"
   ]
  },
  {
   "cell_type": "code",
   "execution_count": 6,
   "metadata": {},
   "outputs": [
    {
     "data": {
      "image/png": "[encoded data removed]",
      "text/plain": [
       "<Figure size 432x288 with 1 Axes>"
      ]
     },
     "metadata": {
      "needs_background": "light"
     },
     "output_type": "display_data"
    }
   ],
   "source": [
    "plot_df(data, 'Date', 'Adj Close', rotate=True, rotation=45, ha='right')"
   ]
  },
  {
   "cell_type": "code",
   "execution_count": 21,
   "metadata": {},
   "outputs": [
    {
     "name": "stdout",
     "output_type": "stream",
     "text": [
      "Train: X:(2512, 5, 1), Y:(2512, 1)\n",
      "Test: X:(628, 5, 1), Y:(628, 1)\n",
      "<class 'numpy.ndarray'>\n"
     ]
    }
   ],
   "source": [
    "def get_split(df, num_X_cols, test_ratio=0.2):\n",
    "    num_train_samples = int((1-test_ratio)*df.shape[0])\n",
    "\n",
    "    X_train = df.iloc[:num_train_samples, :num_X_cols]\n",
    "    Y_train = df.iloc[:num_train_samples, num_X_cols:]\n",
    "    X_test = df.iloc[num_train_samples:, :num_X_cols]\n",
    "    Y_test = df.iloc[num_train_samples:, num_X_cols:]\n",
    "    \n",
    "    # rename columns\n",
    "    for i in range(X_train.shape[1]):\n",
    "        X_train.columns.values[i] = i\n",
    "        X_test.columns.values[i] = i\n",
    "    for i in range(Y_train.shape[1]):\n",
    "        Y_train.columns.values[i] = i\n",
    "        Y_test.columns.values[i] = i\n",
    "\n",
    "    return X_train, Y_train, X_test, Y_test\n",
    "\n",
    "def scale_data(X_train, Y_train, X_test):\n",
    "    scaler = MinMaxScaler()\n",
    "    X_train_scaled = scaler.fit_transform(X_train)  # fit to training data (transform it as well)\n",
    "    X_test_scaled = scaler.transform(X_test)        # transform test (acc. to train)\n",
    "    Y_train_scaled = scaler.fit_transform(Y_train)\n",
    "    return X_train_scaled, Y_train_scaled, X_test_scaled, scaler\n",
    "\n",
    "# https://stackoverflow.com/questions/20410312/\n",
    "# lagged data structure\n",
    "num_cols = 7-1\n",
    "num_X_cols = 5\n",
    "lagged_data = pd.concat([data['Adj Close'].shift(i) for i in range(num_cols,0,-1)], axis=1).dropna()\n",
    "\n",
    "test_ratio = 0.2\n",
    "X_train, Y_train, X_test, Y_test = get_split(lagged_data, num_X_cols, test_ratio)\n",
    "X_train, Y_train, X_test, scaler = scale_data(X_train, Y_train, X_test)\n",
    "Y_test = Y_test.to_numpy()      # obviously, Y_test is not 'available' to be scaled...\n",
    "                                # instead, predictions are inverse transformed\n",
    "\n",
    "num_features = 1\n",
    "X_train = np.reshape(X_train, newshape=(X_train.shape[0], X_train.shape[1], num_features))\n",
    "X_test = np.reshape(X_test, newshape=(X_test.shape[0], X_test.shape[1], num_features))\n",
    "\n",
    "print(f\"Train: X:{X_train.shape}, Y:{Y_train.shape}\\nTest: X:{X_test.shape}, Y:{Y_test.shape}\")\n",
    "print(type(X_train))"
   ]
  },
  {
   "cell_type": "code",
   "execution_count": 22,
   "metadata": {},
   "outputs": [],
   "source": [
    "batch_sz = 256\n",
    "\n",
    "train_loader_kwargs = {\n",
    "    'batch_size': batch_sz\n",
    "}\n",
    "train_loader = DataLoader(\n",
    "    TensorDataset(torch.Tensor(X_train),torch.Tensor(Y_train)), **train_loader_kwargs\n",
    ")\n",
    "\n",
    "test_loader_kwargs = {\n",
    "    'batch_size': batch_sz\n",
    "}\n",
    "test_loader = DataLoader(\n",
    "    TensorDataset(torch.Tensor(X_test),torch.Tensor(Y_test)), **test_loader_kwargs\n",
    ")"
   ]
  },
  {
   "cell_type": "code",
   "execution_count": 23,
   "metadata": {},
   "outputs": [
    {
     "name": "stdout",
     "output_type": "stream",
     "text": [
      "torch.Size([256, 5, 1])\n",
      "torch.Size([256, 1])\n"
     ]
    }
   ],
   "source": [
    "for inputs, labels in train_loader:\n",
    "    print(inputs.shape)     # (batch size, sequence length, input dimension)\n",
    "    print(labels.shape)\n",
    "    break"
   ]
  },
  {
   "cell_type": "code",
   "execution_count": 24,
   "metadata": {},
   "outputs": [],
   "source": [
    "# https://pytorch.org/docs/stable/generated/torch.nn.RNN.html; more links at the end\n",
    "# https://www.kaggle.com/code/rodsaldanha/stock-prediction-pytorch/notebook\n",
    "\n",
    "# https://www.youtube.com/watch?v=Gl2WXLIMvKA\n",
    "\n",
    "class StockRNN(nn.Module):\n",
    "    def __init__(self, input_size, output_size, hidden_size, num_layers, sequence_length):\n",
    "        super().__init__()\n",
    "        self.output_size = output_size\n",
    "        self.hidden_size = hidden_size\n",
    "        self.num_layers = num_layers\n",
    "        self.rnn = nn.RNN(input_size=input_size, hidden_size=hidden_size, num_layers=num_layers, batch_first=True)\n",
    "                    # bias=True, nonlinearity='tanh'\n",
    "        \n",
    "        self.fc = nn.Linear(in_features=hidden_size*sequence_length, out_features=output_size)\n",
    "        nn.init.xavier_uniform_(self.fc.weight)\n",
    "        self.fc.bias.data.fill_(0.01)\n",
    "    \n",
    "    def forward(self, x):\n",
    "        h0 = torch.zeros(self.num_layers, x.size(0), self.hidden_size)\n",
    "        out, _ = self.rnn(x, h0)           # out: (batch size, sequence length, input dims)\n",
    "        out = out.reshape(out.shape[0], -1)\n",
    "        out = self.fc(out)\n",
    "\n",
    "        return out"
   ]
  },
  {
   "cell_type": "code",
   "execution_count": 33,
   "metadata": {},
   "outputs": [],
   "source": [
    "model_args = {\n",
    "    'input_size': 1,\n",
    "    'output_size': 1,\n",
    "    'hidden_size': 512,\n",
    "    'num_layers': 1,\n",
    "    'sequence_length': num_X_cols\n",
    "}\n",
    "model = StockRNN(**model_args)\n",
    "optimizer = torch.optim.Adam(model.parameters(), lr=1e-5)\n",
    "loss_fn = nn.MSELoss()"
   ]
  },
  {
   "cell_type": "code",
   "execution_count": 34,
   "metadata": {},
   "outputs": [],
   "source": [
    "def train(num_epochs):\n",
    "    for epoch in range(num_epochs):\n",
    "        train_loss = 0\n",
    "\n",
    "        model.train()\n",
    "        \n",
    "        for inputs, labels in train_loader:\n",
    "            optimizer.zero_grad()\n",
    "            \n",
    "            outputs = model(inputs)\n",
    "\n",
    "            # print(outputs.shape, labels.shape)\n",
    "            assert outputs.shape==labels.shape                  # useful check\n",
    "\n",
    "            loss = loss_fn(outputs, labels)\n",
    "            loss.backward()\n",
    "            optimizer.step()\n",
    "            \n",
    "            train_loss += loss.item()\n",
    "\n",
    "        if epoch%10==0:\n",
    "            print(\"Epoch:\", epoch, \"\\tLoss:\", train_loss)"
   ]
  },
  {
   "cell_type": "code",
   "execution_count": 35,
   "metadata": {},
   "outputs": [
    {
     "name": "stdout",
     "output_type": "stream",
     "text": [
      "Epoch: 0 \tLoss: 0.3185610892251134\n",
      "Epoch: 10 \tLoss: 0.20094374526524916\n",
      "Epoch: 20 \tLoss: 0.14989145565778017\n",
      "Epoch: 30 \tLoss: 0.10452775862358976\n",
      "Epoch: 40 \tLoss: 0.06557654615608044\n",
      "Epoch: 50 \tLoss: 0.0355787732405588\n",
      "Epoch: 60 \tLoss: 0.016718409038730897\n",
      "Epoch: 70 \tLoss: 0.00801891389710363\n",
      "Epoch: 80 \tLoss: 0.005308207000780385\n",
      "Epoch: 90 \tLoss: 0.004746151857943914\n",
      "Epoch: 100 \tLoss: 0.004662522856278883\n",
      "Epoch: 110 \tLoss: 0.0046494279517901305\n",
      "Epoch: 120 \tLoss: 0.00464318373929018\n",
      "Epoch: 130 \tLoss: 0.004636939692090891\n",
      "Epoch: 140 \tLoss: 0.004630235144759354\n",
      "Epoch: 150 \tLoss: 0.004623075424888157\n",
      "Epoch: 160 \tLoss: 0.0046154624769769725\n",
      "Epoch: 170 \tLoss: 0.004607393534342918\n",
      "Epoch: 180 \tLoss: 0.004598856825396069\n",
      "Epoch: 190 \tLoss: 0.004589844971633283\n"
     ]
    }
   ],
   "source": [
    "train(200)"
   ]
  },
  {
   "cell_type": "code",
   "execution_count": 36,
   "metadata": {},
   "outputs": [],
   "source": [
    "def predict(model, loader, inverse_transform=False, scaler=None):\n",
    "    preds = []\n",
    "    with torch.no_grad():               # not training, so no need to calculate gradients\n",
    "        for inputs, labels in loader:\n",
    "            outputs = model(inputs)\n",
    "            preds.append(outputs)\n",
    "    preds = torch.cat(preds, axis=0).numpy()\n",
    "    if inverse_transform:\n",
    "        preds = scaler.inverse_transform(preds)\n",
    "    return preds"
   ]
  },
  {
   "cell_type": "code",
   "execution_count": 37,
   "metadata": {},
   "outputs": [
    {
     "data": {
      "image/png": "[encoded data removed]",
      "text/plain": [
       "<Figure size 432x288 with 1 Axes>"
      ]
     },
     "metadata": {
      "needs_background": "light"
     },
     "output_type": "display_data"
    }
   ],
   "source": [
    "preds_test = predict(model, test_loader, inverse_transform=True, scaler=scaler)\n",
    "\n",
    "actual_and_pred = pd.DataFrame(columns=['Actual','Predicted'])\n",
    "actual_and_pred['Actual'] = Y_test[:,0]\n",
    "actual_and_pred['Predicted'] = preds_test[:,0]\n",
    "ax = actual_and_pred.plot()\n",
    "plt.savefig('../results/output_size=2/xavier_512_lr=1e-5.png', bbox_inches='tight', facecolor=\"w\")"
   ]
  },
  {
   "cell_type": "code",
   "execution_count": 38,
   "metadata": {},
   "outputs": [
    {
     "data": {
      "image/png": "[encoded data removed]",
      "text/plain": [
       "<Figure size 720x360 with 1 Axes>"
      ]
     },
     "metadata": {
      "needs_background": "light"
     },
     "output_type": "display_data"
    }
   ],
   "source": [
    "preds_train = predict(model, train_loader, inverse_transform=True, scaler=scaler)\n",
    "train_Y_df = pd.DataFrame(columns=['Actual', 'Predicted'])\n",
    "train_Y_df['Actual'] = (scaler.inverse_transform(Y_train))[:,0]\n",
    "train_Y_df['Predicted'] = preds_train[:,0]\n",
    "ax = train_Y_df.plot(figsize=(10,5))\n",
    "plt.savefig('../results/output_size=2/train_preds_512_lr=1e-5.png', bbox_inches='tight', facecolor=\"w\")\n",
    "                                                                                    # facecolor: jupyter problem\n",
    "                                                                                    # https://stackoverflow.com/questions/52371499"
   ]
  },
  {
   "attachments": {},
   "cell_type": "markdown",
   "metadata": {},
   "source": [
    "References:\n",
    "- https://medium.com/swlh/a-technical-guide-on-rnn-lstm-gru-for-stock-price-prediction-bce2f7f30346\n",
    "- https://www.kaggle.com/code/rodsaldanha/stock-prediction-pytorch/notebook\n",
    "- Torch:\n",
    "    - RNN: https://www.youtube.com/watch?v=Gl2WXLIMvKA\n",
    "    - https://blog.floydhub.com/a-beginners-guide-on-recurrent-neural-networks-with-pytorch/\n",
    "    - https://towardsdatascience.com/building-rnn-lstm-and-gru-for-time-series-using-pytorch-a46e5b094e7b\n",
    "    - https://pytorch.org/docs/stable/generated/torch.nn.RNN.html\n"
   ]
  }
 ],
 "metadata": {
  "kernelspec": {
   "display_name": "Python 3",
   "language": "python",
   "name": "python3"
  },
  "language_info": {
   "codemirror_mode": {
    "name": "ipython",
    "version": 3
   },
   "file_extension": ".py",
   "mimetype": "text/x-python",
   "name": "python",
   "nbconvert_exporter": "python",
   "pygments_lexer": "ipython3",
   "version": "3.9.4"
  },
  "orig_nbformat": 4,
  "vscode": {
   "interpreter": {
    "hash": "8ffc022e556dbf9e4707e0813792d41f1f0550f46106b79e6c9a363a1f17dd45"
   }
  }
 },
 "nbformat": 4,
 "nbformat_minor": 2
}
